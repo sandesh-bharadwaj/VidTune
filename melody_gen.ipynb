{
 "cells": [
  {
   "cell_type": "code",
   "execution_count": null,
   "metadata": {},
   "outputs": [],
   "source": [
    "GOOGLE_API_KEY = ''\n",
    "\n",
    "from audiocraft.models import musicgen\n",
    "from audiocraft.utils.notebook import display_audio\n",
    "import google.generativeai as genai\n",
    "import time\n",
    "import json\n",
    "\n",
    "genai.configure(api_key=GOOGLE_API_KEY)"
   ]
  },
  {
   "cell_type": "code",
   "execution_count": null,
   "metadata": {},
   "outputs": [],
   "source": [
    "music_prompt_examples = \"\"\"\n",
    "'A dynamic blend of hip-hop and orchestral elements, with sweeping strings and brass, evoking the vibrant energy of the city',\n",
    "'Smooth jazz, with a saxophone solo, piano chords, and snare full drums',\n",
    "'90s rock song with electric guitar and heavy drums, nightcore, 140bpm',\n",
    "'lofi melody loop, A minor, 110 bpm, jazzy chords evoking a feeling of curiosity, relaxing, vinyl recording',\n",
    "'J-Pop, 140bpm, 320kbps, 48kHz',\n",
    "'funk, disco, R&B, AOR, soft rock, and boogie',\n",
    "'a light and cheerly EDM track, with syncopated drums, aery pads, and strong emotions bpm: 130'.\n",
    "\"\"\"\n",
    "\n",
    "json_schema = \"\"\"\n",
    "{\"Content Description\": \"string\", \"Music Prompt\": \"string\"}\n",
    "\"\"\"\n",
    "\n",
    "gemini_instructions = f\"\"\"\n",
    "You are a music supervisor who analyzes the content and tone of images and videos to describe music that fits well with the mood, evokes emotions, and enhances the narrative of the visuals. Given an image or video, describe the scene and generate a prompt suitable for music generation models. Generate a music prompt based on the description, and use keywords if provided by the user:\n",
    "\n",
    "{music_prompt_examples}\n",
    "\n",
    "You must return your response using this JSON schema: {json_schema}\n",
    "\"\"\"\n"
   ]
  },
  {
   "cell_type": "code",
   "execution_count": null,
   "metadata": {},
   "outputs": [],
   "source": [
    "video_file_name = \"test_reel_video.mp4\"\n",
    "mllm_model = genai.GenerativeModel('gemini-1.5-flash-latest', system_instruction=gemini_instructions)"
   ]
  },
  {
   "cell_type": "code",
   "execution_count": null,
   "metadata": {},
   "outputs": [],
   "source": []
  },
  {
   "cell_type": "code",
   "execution_count": null,
   "metadata": {},
   "outputs": [],
   "source": [
    "video_file = genai.upload_file(video_file_name)\n",
    "while video_file.state.name == \"PROCESSING\":\n",
    "    print(\".\",end=\"\")\n",
    "    time.sleep(3)\n",
    "    video_file = genai.get_file(video_file.name)\n",
    "\n",
    "if video_file.state.name == \"FAILED\":\n",
    "  raise ValueError(video_file.state.name)"
   ]
  },
  {
   "cell_type": "code",
   "execution_count": null,
   "metadata": {},
   "outputs": [],
   "source": [
    "response = mllm_model.generate_content(\n",
    "    [video_file, 'Explain what is happening in this video. '],\n",
    "    request_options={\"timeout\":600}\n",
    ")\n",
    "cleaned_response = json.loads(response.text.strip(\"```json\\n\"))"
   ]
  },
  {
   "cell_type": "code",
   "execution_count": null,
   "metadata": {},
   "outputs": [],
   "source": [
    "musicgen_model = musicgen.MusicGen.get_pretrained('musicgen-melody',device='cuda')\n",
    "musicgen_model.set_generation_params(duration=video_file.video_metadata.video_duration.seconds)"
   ]
  },
  {
   "cell_type": "code",
   "execution_count": null,
   "metadata": {},
   "outputs": [],
   "source": [
    "musicgen_model.set_generation_params(duration=30)\n",
    "result = musicgen_model.generate([cleaned_response['Music Prompt']],progress=True)\n",
    "\n",
    "musicgen_model.set_generation_params(duration=video_file.video_metadata.video_duration.seconds)\n",
    "\n",
    "result = musicgen_model.generate_with_chroma([cleaned_response['Music Prompt']],[result], progress=True)\n",
    "\n"
   ]
  },
  {
   "cell_type": "code",
   "execution_count": null,
   "metadata": {},
   "outputs": [],
   "source": [
    "display_audio(result)"
   ]
  }
 ],
 "metadata": {
  "language_info": {
   "name": "python"
  }
 },
 "nbformat": 4,
 "nbformat_minor": 2
}
